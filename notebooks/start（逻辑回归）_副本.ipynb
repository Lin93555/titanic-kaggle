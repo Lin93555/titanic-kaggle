{
 "cells": [
  {
   "cell_type": "code",
   "execution_count": 8,
   "id": "2c2e6973-1f01-4742-9882-598280852aef",
   "metadata": {},
   "outputs": [
    {
     "name": "stdout",
     "output_type": "stream",
     "text": [
      "训练集预览：\n",
      "   PassengerId  Survived  Pclass  \\\n",
      "0            1         0       3   \n",
      "1            2         1       1   \n",
      "2            3         1       3   \n",
      "3            4         1       1   \n",
      "4            5         0       3   \n",
      "\n",
      "                                                Name     Sex   Age  SibSp  \\\n",
      "0                            Braund, Mr. Owen Harris    male  22.0      1   \n",
      "1  Cumings, Mrs. John Bradley (Florence Briggs Th...  female  38.0      1   \n",
      "2                             Heikkinen, Miss. Laina  female  26.0      0   \n",
      "3       Futrelle, Mrs. Jacques Heath (Lily May Peel)  female  35.0      1   \n",
      "4                           Allen, Mr. William Henry    male  35.0      0   \n",
      "\n",
      "   Parch            Ticket     Fare Cabin Embarked  \n",
      "0      0         A/5 21171   7.2500   NaN        S  \n",
      "1      0          PC 17599  71.2833   C85        C  \n",
      "2      0  STON/O2. 3101282   7.9250   NaN        S  \n",
      "3      0            113803  53.1000  C123        S  \n",
      "4      0            373450   8.0500   NaN        S  \n",
      "\n",
      "测试集预览：\n",
      "   PassengerId  Pclass                                          Name     Sex  \\\n",
      "0          892       3                              Kelly, Mr. James    male   \n",
      "1          893       3              Wilkes, Mrs. James (Ellen Needs)  female   \n",
      "2          894       2                     Myles, Mr. Thomas Francis    male   \n",
      "3          895       3                              Wirz, Mr. Albert    male   \n",
      "4          896       3  Hirvonen, Mrs. Alexander (Helga E Lindqvist)  female   \n",
      "\n",
      "    Age  SibSp  Parch   Ticket     Fare Cabin Embarked  \n",
      "0  34.5      0      0   330911   7.8292   NaN        Q  \n",
      "1  47.0      1      0   363272   7.0000   NaN        S  \n",
      "2  62.0      0      0   240276   9.6875   NaN        Q  \n",
      "3  27.0      0      0   315154   8.6625   NaN        S  \n",
      "4  22.0      1      1  3101298  12.2875   NaN        S  \n"
     ]
    }
   ],
   "source": [
    "# Titanic 生还预测项目 - 步骤 1：加载数据\n",
    "import pandas as pd\n",
    "import numpy as np\n",
    "# 读取训练集和测试集\n",
    "train_df = pd.read_csv(\"train.csv\")\n",
    "test_df = pd.read_csv(\"test.csv\")\n",
    "\n",
    "# 显示前几行数据\n",
    "print(\"训练集预览：\")\n",
    "print(train_df.head())\n",
    "\n",
    "print(\"\\n测试集预览：\")\n",
    "print(test_df.head())"
   ]
  },
  {
   "cell_type": "code",
   "execution_count": null,
   "id": "11747c0b-582a-42f5-b03b-1473dd36c03a",
   "metadata": {},
   "outputs": [],
   "source": [
    "# ✅ 第三步：数据清洗与预处理\n",
    "\n",
    "# 这一步我们会做以下几个重要操作：\n",
    "# \t1.\t填补缺失值（如年龄、登船港口等）\n",
    "# \t2.\t转换类别特征为数值（如性别、登船港口）\n",
    "# \t3.\t创建一些新特征（如家庭成员数量）\n",
    "\n",
    "✅ 说明：\n",
    "\t•\t将类别数据转换为数值是机器学习的必要操作；\n",
    "\t•\t新建特征 FamilySize 可以帮助模型更好理解家庭对生还率的影响；\n",
    "\t•\t后面我们会选取这些清洗后的特征来训练模型。"
   ]
  },
  {
   "cell_type": "code",
   "execution_count": 2,
   "id": "a16627eb-cf2d-4cab-9de0-556bd4870462",
   "metadata": {},
   "outputs": [
    {
     "name": "stdout",
     "output_type": "stream",
     "text": [
      "【处理后数据预览】\n",
      "   Sex  Embarked   Age     Fare  FamilySize\n",
      "0    0         0  22.0   7.2500           2\n",
      "1    1         1  38.0  71.2833           2\n",
      "2    1         0  26.0   7.9250           1\n",
      "3    1         0  35.0  53.1000           2\n",
      "4    0         0  35.0   8.0500           1\n"
     ]
    }
   ],
   "source": [
    "# 步骤 2：数据清洗与特征工程\n",
    "\n",
    "import numpy as np\n",
    "\n",
    "# 合并训练集和测试集一起处理\n",
    "\t# •\t把 train_df 和 test_df 合并为一个大的 DataFrame：full_df。\n",
    "\t# •\t这样做的目的是：在处理缺失值、特征转换时可以统一标准。\n",
    "\t# •\tsort=False 表示列顺序不会被打乱。\n",
    "full_df = pd.concat([train_df, test_df], sort=False)\n",
    "\n",
    "# 1. 填补 Age（年龄）缺失值：用中位数填补\n",
    "\t# •\t把 Age 中的 NaN 用中位数填补。\n",
    "\t# •\tfillna() 是缺失值填充函数。\n",
    "\t# •\t中位数比均值更稳定，不容易被异常值影响。\n",
    "full_df[\"Age\"] = full_df[\"Age\"].fillna(full_df[\"Age\"].median())\n",
    "\n",
    "# 2. 填补 Embarked（登船港口）缺失值：用众数填补\n",
    "full_df[\"Embarked\"] = full_df[\"Embarked\"].fillna(full_df[\"Embarked\"].mode()[0])\n",
    "\n",
    "# 3. 填补 Fare（票价）缺失值：用中位数\n",
    "full_df[\"Fare\"] = full_df[\"Fare\"].fillna(full_df[\"Fare\"].median())\n",
    "\n",
    "# 4. 转换 Sex 为数字（male: 0, female: 1）\n",
    "\t# •\t这是典型的 标签编码（Label Encoding）。\n",
    "full_df[\"Sex\"] = full_df[\"Sex\"].map({\"male\": 0, \"female\": 1})\n",
    "\n",
    "# 5. 转换 Embarked 为数字（S:0, C:1, Q:2）\n",
    "\t# •\t将 Embarked 列中的字符串类别变为数值（One-Hot 的一种简单变体）。\n",
    "full_df[\"Embarked\"] = full_df[\"Embarked\"].map({\"S\": 0, \"C\": 1, \"Q\": 2})\n",
    "\n",
    "# 6. 新特征：家庭成员数量\n",
    "\t# •\t构造新特征 FamilySize = 兄弟姐妹数 + 父母孩子数 + 本人。\n",
    "\t# •\t是 Titanic 比赛中经典的工程特征之一，能反映是否独行或家庭同行。\n",
    "full_df[\"FamilySize\"] = full_df[\"SibSp\"] + full_df[\"Parch\"] + 1\n",
    "\n",
    "# 检查处理后的结果\n",
    "print(\"【处理后数据预览】\")\n",
    "print(full_df[[\"Sex\", \"Embarked\", \"Age\", \"Fare\", \"FamilySize\"]].head())"
   ]
  },
  {
   "cell_type": "code",
   "execution_count": null,
   "id": "ff5e78d7-f297-471e-b172-d5cf1732c08a",
   "metadata": {},
   "outputs": [],
   "source": [
    "# ✅ 第四步：划分训练数据并训练第一个模型（逻辑回归）\n",
    "\n",
    "# 🎯 目标：\n",
    "# \t1.\t从清洗后的数据中提取训练集和测试集\n",
    "# \t2.\t选择特征列用于建模\n",
    "# \t3.\t使用逻辑回归模型进行训练\n",
    "# \t4.\t在训练集上进行预测和评估"
   ]
  },
  {
   "cell_type": "code",
   "execution_count": 9,
   "id": "4b43a29c-777b-4e6e-aef9-233cf4f174fa",
   "metadata": {},
   "outputs": [
    {
     "name": "stdout",
     "output_type": "stream",
     "text": [
      "验证集准确率：0.8101\n"
     ]
    }
   ],
   "source": [
    "# 步骤 3：提取特征并训练逻辑回归模型\n",
    "\n",
    "# •\tLogisticRegression：逻辑回归模型\n",
    "# •\taccuracy_score：用于计算预测的准确率\n",
    "# •\ttrain_test_split：将训练数据进一步分成训练和验证部分\n",
    "from sklearn.linear_model import LogisticRegression\n",
    "from sklearn.metrics import accuracy_score\n",
    "from sklearn.model_selection import train_test_split\n",
    "\n",
    "# 回到原始的训练集与测试集划分\n",
    "\t# •\t将你之前合并后的 full_df 拆分回原始的 train_df 和 test_df，用于分别训练和预测。\n",
    "train_cleaned = full_df[:len(train_df)]\n",
    "test_cleaned = full_df[len(train_df):]\n",
    "\n",
    "# 特征选择（你可以尝试添加更多特征）\n",
    "features = [\"Pclass\", \"Sex\", \"Age\", \"Fare\", \"Embarked\", \"FamilySize\"]\n",
    "\n",
    "# •\tX：用于训练的自变量（输入）\n",
    "# •\ty：用于训练的因变量（输出，目标）\n",
    "# •\tX_test：未来要预测的数据（提交用）\n",
    "X = train_cleaned[features]  # 特征数据\n",
    "y = train_cleaned[\"Survived\"]  # 标签数据（预测目标）\n",
    "X_test = test_cleaned[features]  # 测试集数据（要预测）\n",
    "\n",
    "# 拆分训练集：80%训练，20%验证\n",
    "# •\trandom_state=42 保证每次划分一样（可复现）。\n",
    "X_train, X_val, y_train, y_val = train_test_split(X, y, test_size=0.2, random_state=42)\n",
    "\n",
    "# 建立模型并训练\n",
    "# •\tmax_iter=200：逻辑回归默认最大迭代次数是 100，如果数据复杂可能不收敛，设 200 更保险。\n",
    "model = LogisticRegression(max_iter=200)\n",
    "model.fit(X_train, y_train)\n",
    "\n",
    "# 在验证集上预测\n",
    "# ➡️ 用训练好的模型在验证集上做预测，并计算预测结果的准确率（accuracy）。\n",
    "# •\t如果准确率不错（比如 > 0.75），说明模型学得还可以；\n",
    "# •\t准确率太低则可能需要改进特征、处理方式、换更复杂模型。\n",
    "val_preds = model.predict(X_val)\n",
    "acc = accuracy_score(y_val, val_preds)\n",
    "print(f\"验证集准确率：{acc:.4f}\")\n",
    "# 这是对变量 acc 的格式化输出控制：\n",
    "# •\tacc 是我们计算出的准确率（accuracy），比如 0.7821234\n",
    "# •\t:.4f 的含义是：\n",
    "# •\t: 表示你要开始格式控制\n",
    "# •\t.4 表示保留 小数点后4位\n",
    "# •\tf 表示以 浮点数（float） 的格式显示"
   ]
  },
  {
   "cell_type": "code",
   "execution_count": 10,
   "id": "45279e14-a26d-46d6-9a8c-f5f8b181e0f4",
   "metadata": {},
   "outputs": [],
   "source": [
    "# ✅ 第五步：使用模型预测 test.csv，并生成提交文件上传到 Kaggle 📤\n",
    "# 🎯 目标：\n",
    "# \t•\t用你训练好的模型，对 test.csv 乘客进行生还预测\n",
    "# \t•\t把预测结果保存为 Kaggle 要求的 submission.csv 格式\n",
    "# \t•\t上传到比赛页面查看得分！"
   ]
  },
  {
   "cell_type": "code",
   "execution_count": 11,
   "id": "eb96e399-b764-46cf-9a29-f60e13786aca",
   "metadata": {},
   "outputs": [
    {
     "name": "stdout",
     "output_type": "stream",
     "text": [
      "✅ 已保存为 submission.csv，可上传至 Kaggle 提交。\n"
     ]
    }
   ],
   "source": [
    "# 步骤 4：对 test.csv 做预测并生成提交文件\n",
    "\n",
    "# 对测试集进行预测（注意：这是 Kaggle 给你的数据，没有真实标签）\n",
    "test_preds = model.predict(X_test)\n",
    "\n",
    "# 转换为整数类型\n",
    "test_preds = test_preds.astype(int)\n",
    "\n",
    "# 构建提交文件格式（必须包含 PassengerId 和 Survived 两列）\n",
    "submission = pd.DataFrame({\n",
    "    \"PassengerId\": test_df[\"PassengerId\"],\n",
    "    \"Survived\": test_preds\n",
    "})\n",
    "\n",
    "# 保存为 CSV 文件，准备提交\n",
    "submission.to_csv(\"submission.csv\", index=False)\n",
    "\n",
    "print(\"✅ 已保存为 submission.csv，可上传至 Kaggle 提交。\")"
   ]
  },
  {
   "cell_type": "code",
   "execution_count": null,
   "id": "0d3ba721-a044-4658-8abf-b6c1e20ea1e6",
   "metadata": {},
   "outputs": [],
   "source": []
  },
  {
   "cell_type": "code",
   "execution_count": null,
   "id": "664abdae-e234-47a8-a612-33bac7907b71",
   "metadata": {},
   "outputs": [],
   "source": []
  }
 ],
 "metadata": {
  "kernelspec": {
   "display_name": "Python 3.9 (dl_macos_m4)",
   "language": "python",
   "name": "dl_macos_m4"
  },
  "language_info": {
   "codemirror_mode": {
    "name": "ipython",
    "version": 3
   },
   "file_extension": ".py",
   "mimetype": "text/x-python",
   "name": "python",
   "nbconvert_exporter": "python",
   "pygments_lexer": "ipython3",
   "version": "3.10.13"
  }
 },
 "nbformat": 4,
 "nbformat_minor": 5
}
